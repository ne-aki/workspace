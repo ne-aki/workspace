{
 "cells": [
  {
   "cell_type": "code",
   "execution_count": 12,
   "id": "3e3f88b5",
   "metadata": {},
   "outputs": [
    {
     "name": "stdout",
     "output_type": "stream",
     "text": [
      "1\n"
     ]
    }
   ],
   "source": [
    "#키보드로 정수를 입력받아, 입력받은 정수가 짝수면 '1'을 출력, 홀수면 '2'를 출력, 입력받은 수가 0이변 '0입니다'를 출력하는 코드 작성\n",
    "num1 = int(input('정수 입력'))\n",
    "if num1 % 2 == 0 and num1 != 0 :\n",
    "  print(1)\n",
    "elif num1 % 2 == 1 :\n",
    "  print(2)\n",
    "else :\n",
    "  print('0입니다')"
   ]
  },
  {
   "cell_type": "code",
   "execution_count": 10,
   "id": "e6a11b58",
   "metadata": {},
   "outputs": [
    {
     "name": "stdout",
     "output_type": "stream",
     "text": [
      "7 * 1 = 7\n",
      "7 * 2 = 14\n",
      "7 * 3 = 21\n",
      "7 * 4 = 28\n",
      "7 * 5 = 35\n",
      "7 * 6 = 42\n",
      "7 * 7 = 49\n",
      "7 * 8 = 56\n",
      "7 * 9 = 63\n"
     ]
    }
   ],
   "source": [
    "#키보드로 입력받은 단수의 구구단 출력\n",
    "#ex> 3입력 받으면 3단 출력\n",
    "# 3 * 1 = 3\n",
    "# 3 * 2 = 6\n",
    "# ...\n",
    "# 3 * 9 = 27\n",
    "num2 = int(input('정수 입력'))\n",
    "for i in range(1, 10):\n",
    "  print(f'{num2} * {i} = {num2 * i}')"
   ]
  },
  {
   "cell_type": "code",
   "execution_count": 53,
   "id": "a57b6f61",
   "metadata": {},
   "outputs": [
    {
     "name": "stdout",
     "output_type": "stream",
     "text": [
      "54\n"
     ]
    }
   ],
   "source": [
    "#2. 다음 두 리스트에 존재하는 모든 요소의 합을 구하시오.\n",
    "#힌트 [1,2,3] + [4,5,6] = [1,2,3,4,5,6]\n",
    "#파이썬은 리스트를 더하면 두 리스트의 모든 요소를 갖는 하나의 리스트가 반환\n",
    "list1 = [1, 3, 5]\n",
    "list2 = [10, 15, 20]\n",
    "newList = list1 + list2\n",
    "print(sum(newList))"
   ]
  },
  {
   "cell_type": "code",
   "execution_count": 54,
   "id": "939e1597",
   "metadata": {},
   "outputs": [
    {
     "name": "stdout",
     "output_type": "stream",
     "text": [
      "[4, 10, 12]\n"
     ]
    }
   ],
   "source": [
    "#키보드로 입력받은 세 정수 * 2한 값을 요소로 갖는 리스트를 생성하고 출력하세요.\n",
    "#ex> 입력 : 1,5,10 -> 결과 : [2, 10, 20]\n",
    "list3 = []\n",
    "for i in range(0, 3) :\n",
    "  list3.append(int(input(f'{i + 1}번째 정수 입력')) * 2)\n",
    "print(list3)"
   ]
  },
  {
   "cell_type": "code",
   "execution_count": 60,
   "id": "e3cc614e",
   "metadata": {},
   "outputs": [
    {
     "name": "stdout",
     "output_type": "stream",
     "text": [
      "3\n"
     ]
    }
   ],
   "source": [
    "#다음의 데이터에서 't'의 개수를 구하시오.\n",
    "#힌트 : 파이썬은 문자열도 리스트이기에 반복문을 사용할 수 있음\n",
    "data = ['brother', 'mother', 'sister']\n",
    "cnt = 0\n",
    "for word in data :\n",
    "  for e in word :\n",
    "    if e == 't' :\n",
    "      cnt = cnt + 1\n",
    "print(cnt)"
   ]
  },
  {
   "cell_type": "code",
   "execution_count": 55,
   "id": "7c70536d",
   "metadata": {},
   "outputs": [],
   "source": [
    "#아래의 딕셔너리 데이터를 참고하여 문제 해결\n",
    "student = {\n",
    "  'name' : 'hong',\n",
    "  'korScore' : 0,\n",
    "  'mathScore' : 0\n",
    "}"
   ]
  },
  {
   "cell_type": "code",
   "execution_count": 59,
   "id": "f8bfd899",
   "metadata": {},
   "outputs": [
    {
     "name": "stdout",
     "output_type": "stream",
     "text": [
      "{'name': 'hong', 'korScore': 30, 'mathScore': 20}\n"
     ]
    }
   ],
   "source": [
    "#위에서 선언한 딕셔너리 데이터의 국어점수 및 수학점수 데이터를 키보드로 입력받은 데이터로 변경하시오\n",
    "student['korScore'] = int(input('국어점수 입력'))\n",
    "student['mathScore'] = int(input('수학점수 입력'))\n",
    "print(student)"
   ]
  },
  {
   "cell_type": "code",
   "execution_count": 61,
   "id": "9bb5c3dc",
   "metadata": {},
   "outputs": [
    {
     "name": "stdout",
     "output_type": "stream",
     "text": [
      "50\n"
     ]
    }
   ],
   "source": [
    "#위의 딕셔너리 데이터에 총점(totalScore) 키를 추가하고 value의 값은 국어점수와 수학점수의 합으로 지정하시오.\n",
    "student['totalScore'] = student['korScore'] + student['mathScore']\n",
    "print(student['totalScore'])"
   ]
  },
  {
   "cell_type": "code",
   "execution_count": 67,
   "id": "4d5175f8",
   "metadata": {},
   "outputs": [
    {
     "name": "stdout",
     "output_type": "stream",
     "text": [
      "256\n"
     ]
    }
   ],
   "source": [
    "scores = {\n",
    "  'korScore' : 90,\n",
    "  'engScore' : 80,\n",
    "  'mathScore' : 86\n",
    "}\n",
    "#매개변수로 전달되는 학생점수 딕셔너리의 모든 점수의 합을 리턴하는 함수를 선언하고 호출해 보세요.\n",
    "def getTotalScore(scores):\n",
    "  result = 0\n",
    "  for e in scores:\n",
    "    result = result + scores[e]\n",
    "  return result\n",
    "print(getTotalScore(scores))"
   ]
  },
  {
   "cell_type": "code",
   "execution_count": 70,
   "id": "0a5488ab",
   "metadata": {},
   "outputs": [
    {
     "name": "stdout",
     "output_type": "stream",
     "text": [
      "[2, 4, 6]\n"
     ]
    }
   ],
   "source": [
    "#매개변수로 두 리스트가 전달되면 두 리스트의 모든 요소에서 짝수 데이터만 가진 리스트를 리턴하는 함수를 선언하고 호출하세요.\n",
    "#단, 두 리스트의 데이터는 중복이 없다고 가정한다.\n",
    "#ex> 첫번째 매개변수 : [1,2,5], 두번째 매개변수 : [4, 7, 10] -> 결과 : [2, 4, 10]\n",
    "def getEvenList(list4, list5):\n",
    "  resultList = []\n",
    "  sumList = list4 + list5\n",
    "  for e in sumList :\n",
    "    if e % 2 == 0 :\n",
    "      resultList.append(e)\n",
    "  return resultList\n",
    "print(getEvenList([1,2,3],[4,5,6]))"
   ]
  },
  {
   "cell_type": "code",
   "execution_count": 73,
   "id": "5dea3cdb",
   "metadata": {},
   "outputs": [
    {
     "name": "stdout",
     "output_type": "stream",
     "text": [
      "{'apple': 5, 'banana': 6, 'orange': 6}\n"
     ]
    }
   ],
   "source": [
    "'''\n",
    "매개변수로 문자열 리스트가 전달되면 리스트의 문자열과 문자열의 길이를 딕셔너리로 리턴하는 함수를 선언하고 호출해 보세요.\n",
    "len(문자열)을 사용하면 문자열의 길이를 알 수 있음\n",
    "ex>매개변수 : ['apple', 'banana', 'orange']\n",
    "결과 : {\n",
    "  'apple' : 5,\n",
    "  'banana' : 6,\n",
    "  'orange' : 6\n",
    "}\n",
    "'''\n",
    "def getDicFromList(list6):\n",
    "  resultDic = {}\n",
    "  for e in list6 :\n",
    "    resultDic[e] = len(e)\n",
    "  return resultDic\n",
    "print(getDicFromList(['apple', 'banana', 'orange']))"
   ]
  }
 ],
 "metadata": {
  "kernelspec": {
   "display_name": "Python 3",
   "language": "python",
   "name": "python3"
  },
  "language_info": {
   "codemirror_mode": {
    "name": "ipython",
    "version": 3
   },
   "file_extension": ".py",
   "mimetype": "text/x-python",
   "name": "python",
   "nbconvert_exporter": "python",
   "pygments_lexer": "ipython3",
   "version": "3.13.7"
  }
 },
 "nbformat": 4,
 "nbformat_minor": 5
}
