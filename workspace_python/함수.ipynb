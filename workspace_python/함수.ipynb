{
 "cells": [
  {
   "cell_type": "code",
   "execution_count": null,
   "id": "3867f38d",
   "metadata": {},
   "outputs": [],
   "source": [
    "def sayHello():\n",
    "  print(1)\n",
    "  print(2)"
   ]
  },
  {
   "cell_type": "code",
   "execution_count": 5,
   "id": "6cf62e11",
   "metadata": {},
   "outputs": [
    {
     "name": "stdout",
     "output_type": "stream",
     "text": [
      "1\n",
      "2\n"
     ]
    }
   ],
   "source": [
    "sayHello()"
   ]
  },
  {
   "cell_type": "code",
   "execution_count": null,
   "id": "9576d93e",
   "metadata": {},
   "outputs": [],
   "source": [
    "def getSum(a, b):\n",
    "  print(a + b)\n",
    "  return a + b"
   ]
  },
  {
   "cell_type": "code",
   "execution_count": 12,
   "metadata": {},
   "outputs": [
    {
     "name": "stdout",
     "output_type": "stream",
     "text": [
      "30\n",
      "30\n"
     ]
    }
   ],
   "source": [
    "result = getSum(10, 20)\n",
    "print(result)"
   ]
  },
  {
   "cell_type": "code",
   "execution_count": 17,
   "id": "ec57055c",
   "metadata": {},
   "outputs": [],
   "source": [
    "#파이썬의 함수는 return 데이터를 여러개 가질 수 있음\n",
    "def getNumber():\n",
    "  return 10, 20, 30"
   ]
  },
  {
   "cell_type": "code",
   "execution_count": 18,
   "id": "3d495198",
   "metadata": {},
   "outputs": [
    {
     "name": "stdout",
     "output_type": "stream",
     "text": [
      "10 20 30\n"
     ]
    }
   ],
   "source": [
    "r1, r2, r3 = getNumber()\n",
    "print(r1, r2, r3)"
   ]
  },
  {
   "cell_type": "code",
   "execution_count": 21,
   "id": "b5fc8e1c",
   "metadata": {},
   "outputs": [],
   "source": [
    "#파이썬은 매개변수에 데이터를 전달할 때 매개변수명을 활용할 수 있음\n",
    "def printInfo(name, age):\n",
    "  print(f'이름은 {name}이고, 나이는 {age}입니다.')"
   ]
  },
  {
   "cell_type": "code",
   "execution_count": null,
   "id": "1386e8f3",
   "metadata": {},
   "outputs": [
    {
     "name": "stdout",
     "output_type": "stream",
     "text": [
      "이름은 kim이고, 나이는 20입니다.\n",
      "이름은 park이고, 나이는 25입니다.\n",
      "이름은 lee이고, 나이는 30입니다.\n",
      "이름은 30이고, 나이는 ch입니다.\n"
     ]
    }
   ],
   "source": [
    "printInfo('kim', 20)\n",
    "printInfo(name='park', age='25')\n",
    "printInfo(age=30, name='lee')"
   ]
  },
  {
   "cell_type": "code",
   "execution_count": null,
   "id": "0bafa0af",
   "metadata": {},
   "outputs": [],
   "source": []
  },
  {
   "cell_type": "code",
   "execution_count": null,
   "id": "90bd1706",
   "metadata": {},
   "outputs": [],
   "source": []
  },
  {
   "cell_type": "code",
   "execution_count": null,
   "metadata": {},
   "outputs": [],
   "source": []
  },
  {
   "cell_type": "code",
   "execution_count": null,
   "id": "191235f9",
   "metadata": {},
   "outputs": [],
   "source": []
  },
  {
   "cell_type": "code",
   "execution_count": null,
   "id": "d0c54839",
   "metadata": {},
   "outputs": [],
   "source": []
  },
  {
   "cell_type": "code",
   "execution_count": null,
   "id": "69662e58",
   "metadata": {},
   "outputs": [],
   "source": []
  },
  {
   "cell_type": "code",
   "execution_count": null,
   "id": "fd223d70",
   "metadata": {},
   "outputs": [],
   "source": []
  },
  {
   "cell_type": "code",
   "execution_count": null,
   "id": "f1b33877",
   "metadata": {},
   "outputs": [],
   "source": []
  },
  {
   "cell_type": "code",
   "execution_count": null,
   "id": "eb9bee0c",
   "metadata": {},
   "outputs": [],
   "source": []
  },
  {
   "cell_type": "code",
   "execution_count": null,
   "id": "b52f4410",
   "metadata": {},
   "outputs": [],
   "source": []
  }
 ],
 "metadata": {
  "kernelspec": {
   "display_name": "Python 3",
   "language": "python",
   "name": "python3"
  },
  "language_info": {
   "codemirror_mode": {
    "name": "ipython",
    "version": 3
   },
   "file_extension": ".py",
   "mimetype": "text/x-python",
   "name": "python",
   "nbconvert_exporter": "python",
   "pygments_lexer": "ipython3",
   "version": "3.13.7"
  }
 },
 "nbformat": 4,
 "nbformat_minor": 5
}
