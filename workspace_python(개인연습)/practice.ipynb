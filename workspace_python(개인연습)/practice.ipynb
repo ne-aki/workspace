{
 "cells": [
  {
   "cell_type": "markdown",
   "id": "9795edea",
   "metadata": {},
   "source": [
    "### 이곳은 연습장입니다.\n",
    "### ここは練習帳です。"
   ]
  }
 ],
 "metadata": {
  "language_info": {
   "name": "python"
  }
 },
 "nbformat": 4,
 "nbformat_minor": 5
}
