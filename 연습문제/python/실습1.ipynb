{
 "cells": [
  {
   "cell_type": "code",
   "execution_count": null,
   "id": "1ca2863b",
   "metadata": {},
   "outputs": [],
   "source": [
    "#키보드로 정수를 입력받아, 입력받은 정수가 짝수면 '1'을 출력, 홀수면 '2'를 출력\n",
    "#입력받은 수가 0이면 '0입니다'를 출력하는 코드 작성"
   ]
  },
  {
   "cell_type": "code",
   "execution_count": null,
   "id": "cbb5960f",
   "metadata": {},
   "outputs": [],
   "source": [
    "#키보드로 입력받은 단수의 구구단 출력\n",
    "#ex> 3입력 받으면 3단 출력\n",
    "# 3 * 1 = 3\n",
    "# 3* 2 = 6\n",
    "# ...\n",
    "# 3 * 9 = 27"
   ]
  },
  {
   "cell_type": "code",
   "execution_count": null,
   "id": "53266e65",
   "metadata": {},
   "outputs": [],
   "source": [
    "#다음 두 리스트에 존재하는 모든 요소의 합을 구하시오.\n",
    "list1 = [1, 3, 5]\n",
    "list2 = [10, 15, 20]"
   ]
  },
  {
   "cell_type": "code",
   "execution_count": null,
   "id": "5a6244f0",
   "metadata": {},
   "outputs": [],
   "source": [
    "#키보드로 입력받은 세 정수 * 2한 값을 요소로 갖는 리스트를 생성하고 출력하세요.\n",
    "#ex> 입력 : 1,5,10 -> 결과 : [2, 10, 20]"
   ]
  },
  {
   "cell_type": "code",
   "execution_count": null,
   "id": "b8a6c543",
   "metadata": {},
   "outputs": [],
   "source": [
    "#다음의 데이터에서 't' 의 갯수를 구하시오.\n",
    "#힌트 : 파이썬은 문자열도 리스트이기에 반복문을 사용할 수 있음\n",
    "data = ['brother', 'mother', 'sister']"
   ]
  },
  {
   "cell_type": "code",
   "execution_count": null,
   "id": "8ee14c79",
   "metadata": {},
   "outputs": [],
   "source": [
    "# 아래의 딕셔너리 데이터를 참고하여 문제 해결\n",
    "student = {\n",
    "  'name' : 'hong',\n",
    "  'korScore' : 0,\n",
    "  'mathScore' : 0,\n",
    "}"
   ]
  },
  {
   "cell_type": "code",
   "execution_count": null,
   "id": "6d37bbf7",
   "metadata": {},
   "outputs": [],
   "source": [
    "#위에서 선언한 딕셔너리 데이터의 국어점수 및 수학점수 데이터를 키보드로 입력받은 데이터로 변경하시오"
   ]
  },
  {
   "cell_type": "code",
   "execution_count": null,
   "id": "00ec9f04",
   "metadata": {},
   "outputs": [],
   "source": [
    "#위의 딕셔너리 데이터에 총점(totalScore) 키를 추가하고, value의 값는 국어와 수학점수의 합으로 지정하시오. "
   ]
  },
  {
   "cell_type": "code",
   "execution_count": null,
   "id": "9aa860ed",
   "metadata": {},
   "outputs": [],
   "source": [
    "scores = {\n",
    "  'korScore' : 90,\n",
    "  'engScore' : 80,\n",
    "  'mathScore' : 86\n",
    "}\n",
    "# 매개변수로 전달되는 학생점수 딕셔너리의 모든점수의 합을 리턴하는 함수를 선언하고 호출해보세요."
   ]
  },
  {
   "cell_type": "code",
   "execution_count": null,
   "id": "81112e3e",
   "metadata": {},
   "outputs": [],
   "source": [
    "#매개변수로 두 리스트가 전달되면 두 리스트의 모든 요소에서 짝수 데이터만 가진 리스트를 리턴하는 함수를 선언하고 호출하세요. 단, 두 리스트의 데이터는 중복이 없다고 가정한다.\n",
    "#ex> 첫번째 매개변수 : [1,2,5], 두번째 매개변수 : [4, 7, 10] -> 결과 : [2,4,10]"
   ]
  },
  {
   "cell_type": "code",
   "execution_count": null,
   "id": "592db12f",
   "metadata": {},
   "outputs": [
    {
     "name": "stdout",
     "output_type": "stream",
     "text": [
      "1\n"
     ]
    }
   ],
   "source": [
    "'''\n",
    "매개변수로 문자열 리스트가 전달되면 리스트의 문자열과 문자열의 길이를 딕셔너리로 리턴하는 함수를 선언하고 호출해보세요. \n",
    "len(문자열) 을 사용하면 문자열의 길이를 알수 있음\n",
    "#ex> 매개변수 : ['apple', 'banana', 'orange']\n",
    "결과 : {\n",
    "  'apple' : 5,\n",
    "  'banana' : 6,\n",
    "  'orange' : 6\n",
    "}\n",
    "'''\n"
   ]
  },
  {
   "cell_type": "code",
   "execution_count": null,
   "id": "e6f8af1e",
   "metadata": {},
   "outputs": [],
   "source": []
  },
  {
   "cell_type": "code",
   "execution_count": null,
   "id": "8e3cb399",
   "metadata": {},
   "outputs": [],
   "source": []
  },
  {
   "cell_type": "code",
   "execution_count": null,
   "id": "03a7cee8",
   "metadata": {},
   "outputs": [],
   "source": []
  }
 ],
 "metadata": {
  "kernelspec": {
   "display_name": "Python 3",
   "language": "python",
   "name": "python3"
  },
  "language_info": {
   "codemirror_mode": {
    "name": "ipython",
    "version": 3
   },
   "file_extension": ".py",
   "mimetype": "text/x-python",
   "name": "python",
   "nbconvert_exporter": "python",
   "pygments_lexer": "ipython3",
   "version": "3.13.7"
  }
 },
 "nbformat": 4,
 "nbformat_minor": 5
}
