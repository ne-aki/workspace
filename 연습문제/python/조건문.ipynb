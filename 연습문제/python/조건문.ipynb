{
 "cells": [
  {
   "cell_type": "code",
   "execution_count": null,
   "id": "c4701238",
   "metadata": {},
   "outputs": [
    {
     "name": "stdout",
     "output_type": "stream",
     "text": [
      "1\n",
      "5\n",
      "10\n"
     ]
    }
   ],
   "source": [
    "# 파이썬은 중괄호도 없다\n",
    "# 크다 ( > ), 작다 ( < ), 이상( >= ), 이하( <= )\n",
    "# 같다 ( == ), 다르다( != ), 그리고( and ) , 이거나( or )\n",
    "num1 = 3\n",
    "\n",
    "# 파이썬의 if문 실행 영역은 들여쓰기로 판단한다.\n",
    "if num1 > 1 :\n",
    "  print(1)\n",
    "  print(5)\n",
    "\n",
    "print(10)\n",
    "\n",
    "if 10 > 5 and 7 > 3 :\n",
    "  print(1)"
   ]
  },
  {
   "cell_type": "code",
   "execution_count": 3,
   "id": "e4cb31c7",
   "metadata": {},
   "outputs": [
    {
     "name": "stdout",
     "output_type": "stream",
     "text": [
      "1\n"
     ]
    }
   ],
   "source": [
    "num2 = 5\n",
    "\n",
    "if num2 > 1 : \n",
    "  print(1)\n",
    "elif num2 > 3 :\n",
    "  print(2)\n",
    "else :\n",
    "  print(3)\n"
   ]
  },
  {
   "cell_type": "code",
   "execution_count": 4,
   "id": "cd1dab45",
   "metadata": {},
   "outputs": [
    {
     "name": "stdout",
     "output_type": "stream",
     "text": [
      "짝수\n"
     ]
    }
   ],
   "source": [
    "# 키보드로 정수를 하나 입력받아\n",
    "# 입력받은 수가 짝수면 '짝수'를 출력,\n",
    "# 입력받은 수가 홀수면 '홀수'를 출력.\n",
    "# 키보드 입력을 위해 input()을 사용함.\n",
    "# 키보드로 입력받은 모든 데이터는 무조건 문자로 인식.\n",
    "# 문자 -> 정수로 변환 : int('5') -> 5\n",
    "num3 = int(input('정수 입력'))\n",
    "if num3 % 2 == 0 :\n",
    "  print('짝수')\n",
    "else :\n",
    "  print('홀수')"
   ]
  },
  {
   "cell_type": "code",
   "execution_count": null,
   "id": "bd2d7d6b",
   "metadata": {},
   "outputs": [],
   "source": []
  },
  {
   "cell_type": "code",
   "execution_count": null,
   "id": "58d4a799",
   "metadata": {},
   "outputs": [],
   "source": []
  },
  {
   "cell_type": "code",
   "execution_count": null,
   "id": "df2cbf0b",
   "metadata": {},
   "outputs": [],
   "source": []
  },
  {
   "cell_type": "code",
   "execution_count": null,
   "id": "9ea38877",
   "metadata": {},
   "outputs": [],
   "source": []
  },
  {
   "cell_type": "code",
   "execution_count": null,
   "id": "ab1474fe",
   "metadata": {},
   "outputs": [],
   "source": []
  },
  {
   "cell_type": "code",
   "execution_count": null,
   "id": "d5fac2e6",
   "metadata": {},
   "outputs": [],
   "source": []
  }
 ],
 "metadata": {
  "kernelspec": {
   "display_name": "Python 3",
   "language": "python",
   "name": "python3"
  },
  "language_info": {
   "codemirror_mode": {
    "name": "ipython",
    "version": 3
   },
   "file_extension": ".py",
   "mimetype": "text/x-python",
   "name": "python",
   "nbconvert_exporter": "python",
   "pygments_lexer": "ipython3",
   "version": "3.13.7"
  }
 },
 "nbformat": 4,
 "nbformat_minor": 5
}
