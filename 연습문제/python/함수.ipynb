{
 "cells": [
  {
   "cell_type": "code",
   "execution_count": 1,
   "id": "de334312",
   "metadata": {},
   "outputs": [],
   "source": [
    "def sayHello():\n",
    "  print(1)\n",
    "  print(2)"
   ]
  },
  {
   "cell_type": "code",
   "execution_count": 2,
   "id": "76c2cffc",
   "metadata": {},
   "outputs": [
    {
     "name": "stdout",
     "output_type": "stream",
     "text": [
      "1\n",
      "2\n"
     ]
    }
   ],
   "source": [
    "sayHello()"
   ]
  },
  {
   "cell_type": "code",
   "execution_count": 3,
   "id": "44b63892",
   "metadata": {},
   "outputs": [],
   "source": [
    "def getSum(a, b):\n",
    "  print(a + b)\n",
    "  return a + b"
   ]
  },
  {
   "cell_type": "code",
   "execution_count": 4,
   "id": "66bc50fa",
   "metadata": {},
   "outputs": [
    {
     "name": "stdout",
     "output_type": "stream",
     "text": [
      "30\n",
      "30\n"
     ]
    }
   ],
   "source": [
    "result = getSum(10, 20)\n",
    "print(result)"
   ]
  },
  {
   "cell_type": "code",
   "execution_count": 5,
   "id": "c9bd5a1a",
   "metadata": {},
   "outputs": [],
   "source": [
    "#파이썬의 함수는 return 데이터를 여러개 가질 수 있음\n",
    "def getNumber():\n",
    "  return 10, 20, 30"
   ]
  },
  {
   "cell_type": "code",
   "execution_count": 6,
   "id": "0aad72d2",
   "metadata": {},
   "outputs": [
    {
     "name": "stdout",
     "output_type": "stream",
     "text": [
      "10 20 30\n"
     ]
    }
   ],
   "source": [
    "r1, r2, r3 = getNumber()\n",
    "print(r1, r2, r3)"
   ]
  },
  {
   "cell_type": "code",
   "execution_count": 7,
   "id": "312ca140",
   "metadata": {},
   "outputs": [],
   "source": [
    "#파이썬은 매개변수에 데이터를 전달할때 매개변수명을 활용할 수 있음\n",
    "def printInfo(name, age):\n",
    "  print(f'이름은 {name}이고, 나이는 {age}')"
   ]
  },
  {
   "cell_type": "code",
   "execution_count": 10,
   "id": "5c7f3d0e",
   "metadata": {},
   "outputs": [
    {
     "name": "stdout",
     "output_type": "stream",
     "text": [
      "이름은 kim이고, 나이는 20\n",
      "이름은 kim이고, 나이는 20\n",
      "이름은 Lee이고, 나이는 30\n"
     ]
    }
   ],
   "source": [
    "printInfo('kim', 20)\n",
    "printInfo(name='kim', age = 20)\n",
    "printInfo(age = 30, name = 'Lee')"
   ]
  },
  {
   "cell_type": "code",
   "execution_count": null,
   "id": "0b82d199",
   "metadata": {},
   "outputs": [],
   "source": [
    "print('ssss', end=' ')"
   ]
  },
  {
   "cell_type": "code",
   "execution_count": null,
   "id": "5cf93656",
   "metadata": {},
   "outputs": [],
   "source": []
  }
 ],
 "metadata": {
  "kernelspec": {
   "display_name": "Python 3",
   "language": "python",
   "name": "python3"
  },
  "language_info": {
   "codemirror_mode": {
    "name": "ipython",
    "version": 3
   },
   "file_extension": ".py",
   "mimetype": "text/x-python",
   "name": "python",
   "nbconvert_exporter": "python",
   "pygments_lexer": "ipython3",
   "version": "3.13.7"
  }
 },
 "nbformat": 4,
 "nbformat_minor": 5
}
