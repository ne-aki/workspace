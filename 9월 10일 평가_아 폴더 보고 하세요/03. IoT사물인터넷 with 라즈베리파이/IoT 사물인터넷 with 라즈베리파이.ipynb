{
 "cells": [
  {
   "cell_type": "markdown",
   "id": "960b54ab",
   "metadata": {},
   "source": [
    "### IoT 사물인터넷 with 라즈베리파이"
   ]
  },
  {
   "cell_type": "markdown",
   "id": "a127f87d",
   "metadata": {},
   "source": [
    "1. 키보드로 세 정수를 입력받아, 큰 수부터 출력하시오. 입력받은 수에 중복은 없다고 가정한다."
   ]
  },
  {
   "cell_type": "code",
   "execution_count": 50,
   "id": "4e6e3ea4",
   "metadata": {},
   "outputs": [
    {
     "name": "stdout",
     "output_type": "stream",
     "text": [
      "3 > 2 > 1\n"
     ]
    }
   ],
   "source": [
    "num1 = int(input ('첫 번째 수 : '))\n",
    "num2 = int(input ('두 번째 수 : '))\n",
    "num3 = int(input ('세 번째 수 : '))\n",
    "maxNum = 0\n",
    "midNum = 0\n",
    "minNum = 0\n",
    "if num1 > num2 and num1 > num3 :\n",
    "  maxNum = num1\n",
    "  midNum = max(num2, num3)\n",
    "  minNum = min(num2, num3)\n",
    "elif num2 > num1 and num2 > num3 :\n",
    "  maxNum = num2\n",
    "  midNum = max(num1, num3)\n",
    "  minNum = min(num1, num3)\n",
    "else :\n",
    "  maxNum = num3\n",
    "  midNum = max(num1, num2)\n",
    "  minNum = min(num1, num2)\n",
    "print (f'{maxNum} > {midNum} > {minNum}')"
   ]
  },
  {
   "cell_type": "markdown",
   "id": "eecebea4",
   "metadata": {},
   "source": [
    "2. 매개변수로 전달되는 수의 구구단을 출력하는 함수를 선언하시오."
   ]
  },
  {
   "cell_type": "code",
   "execution_count": null,
   "id": "d87dac44",
   "metadata": {},
   "outputs": [
    {
     "name": "stdout",
     "output_type": "stream",
     "text": [
      "5 * 1 = 5\n",
      "5 * 2 = 10\n",
      "5 * 3 = 15\n",
      "5 * 4 = 20\n",
      "5 * 5 = 25\n",
      "5 * 6 = 30\n",
      "5 * 7 = 35\n",
      "5 * 8 = 40\n",
      "5 * 9 = 45\n"
     ]
    }
   ],
   "source": [
    "def getMulTable(num):\n",
    "\tfor i in range(1, 10):\n",
    "\t\tprint(f'{num} * {i} = {num * i}')\n",
    "\n",
    "getMulTable(5)"
   ]
  },
  {
   "cell_type": "markdown",
   "id": "77001677",
   "metadata": {},
   "source": [
    "3. 1부터 20까지의 숫자 중에서 홀수만 리스트에 저장하고 출력하는 코드를 작성하시오."
   ]
  },
  {
   "cell_type": "code",
   "execution_count": 31,
   "id": "98bf2c8b",
   "metadata": {},
   "outputs": [
    {
     "name": "stdout",
     "output_type": "stream",
     "text": [
      "[1, 3, 5, 7, 9, 11, 13, 15, 17, 19]\n"
     ]
    }
   ],
   "source": [
    "oddList = []\n",
    "for e in range(1, 21) :\n",
    "  if e % 2 == 1 :\n",
    "    oddList.append(e)\n",
    "print (oddList)"
   ]
  },
  {
   "cell_type": "markdown",
   "id": "ff945732",
   "metadata": {},
   "source": [
    "4. 다음 리스트에 저장된 모든 연락처의 중간 네자리 숫자의 합을 구하여 출력하시오."
   ]
  },
  {
   "cell_type": "code",
   "execution_count": 74,
   "id": "0ba0b584",
   "metadata": {},
   "outputs": [
    {
     "data": {
      "text/plain": [
       "8000"
      ]
     },
     "execution_count": 74,
     "metadata": {},
     "output_type": "execute_result"
    }
   ],
   "source": [
    "phoneNumbers = [\n",
    "  '010-1000-2222',\n",
    "  '010-2000-3333',\n",
    "  '010-5000-4444'\n",
    "]\n",
    "middleNumList = []\n",
    "for phoneNumber in phoneNumbers :\n",
    "  middleNumList.append(int(phoneNumber[4:8]))\n",
    "sum (middleNumList)"
   ]
  },
  {
   "cell_type": "markdown",
   "id": "9cb6d45e",
   "metadata": {},
   "source": [
    "5. 아래 딕셔너리 데이터를 참고하여, 모든 학생의 평균 점수를 구하는 코드를 작성하시오."
   ]
  },
  {
   "cell_type": "code",
   "execution_count": 65,
   "id": "0846bd90",
   "metadata": {},
   "outputs": [
    {
     "name": "stdout",
     "output_type": "stream",
     "text": [
      "85.0\n"
     ]
    }
   ],
   "source": [
    "students = {\n",
    "  \"김철수\": 85, \n",
    "  \"이영희\": 92, \n",
    "  \"박민수\": 78\n",
    "}\n",
    "\n",
    "scoreList = []\n",
    "\n",
    "for student in students :\n",
    "  scoreList.append(students[student])\n",
    "average = sum (scoreList) / len (scoreList)\n",
    "print (average)"
   ]
  },
  {
   "cell_type": "markdown",
   "id": "f91bc629",
   "metadata": {},
   "source": [
    "다음 상품 정보 데이터를 참고하여 문제를 푸시오."
   ]
  },
  {
   "cell_type": "code",
   "execution_count": 22,
   "id": "5e6257af",
   "metadata": {},
   "outputs": [],
   "source": [
    "products = [\n",
    "    {\"이름\": \"노트북\", \"가격\": 50000},\n",
    "    {\"이름\": \"마우스\", \"가격\": 8000},\n",
    "    {\"이름\": \"키보드\", \"가격\": 15000},\n",
    "    {\"이름\": \"모니터\", \"가격\": 30000},\n",
    "    {\"이름\": \"USB\", \"가격\": 5000}\n",
    "]"
   ]
  },
  {
   "cell_type": "markdown",
   "id": "86bbc79d",
   "metadata": {},
   "source": [
    "6. 위 products 데이터에 키보드로 입력한 이름과 가격을 갖는 상품을 추가하는 코드를 작성하시오."
   ]
  },
  {
   "cell_type": "code",
   "execution_count": 29,
   "id": "e99f425b",
   "metadata": {},
   "outputs": [
    {
     "name": "stdout",
     "output_type": "stream",
     "text": [
      "[{'이름': '노트북', '가격': 50000}, {'이름': '마우스', '가격': 8000}, {'이름': '키보드', '가격': 15000}, {'이름': '모니터', '가격': 30000}, {'이름': 'USB', '가격': 5000}, {'이름': '새 상품', '가격': 10000}, {'이름': '삭제할 예정', '가격': 1000}, {'이름': '삭제할 예정2', '가격': 50000}]\n"
     ]
    }
   ],
   "source": [
    "products.append({\n",
    "  \"이름\" : input(\"이름 입력\"),\n",
    "  \"가격\" : int(input(\"가격 입력\"))\n",
    "})\n",
    "print(products)"
   ]
  },
  {
   "cell_type": "markdown",
   "id": "669b1e5b",
   "metadata": {},
   "source": [
    "7. 가격이 10000원 이상인 상품들만 필터링하여 새로운 리스트로 만드는 코드를 작성하시오."
   ]
  },
  {
   "cell_type": "code",
   "execution_count": 35,
   "id": "fd709e97",
   "metadata": {},
   "outputs": [
    {
     "name": "stdout",
     "output_type": "stream",
     "text": [
      "[{'이름': '노트북', '가격': 50000}, {'이름': '키보드', '가격': 15000}, {'이름': '모니터', '가격': 30000}, {'이름': '새 상품', '가격': 10000}]\n"
     ]
    }
   ],
   "source": [
    "newList = []\n",
    "for product in products :\n",
    "  if product['가격'] >= 10000 :\n",
    "    newList.append(product)\n",
    "print (newList)\n",
    "  "
   ]
  },
  {
   "cell_type": "markdown",
   "id": "72369208",
   "metadata": {},
   "source": [
    "8. 키보드로 입력한 이름을 갖는 상품을 products 데이터에서 삭제하는 코드를 작성하시오."
   ]
  },
  {
   "cell_type": "code",
   "execution_count": 33,
   "id": "9ee9a214",
   "metadata": {},
   "outputs": [
    {
     "name": "stdout",
     "output_type": "stream",
     "text": [
      "[{'이름': '노트북', '가격': 50000}, {'이름': '마우스', '가격': 8000}, {'이름': '키보드', '가격': 15000}, {'이름': '모니터', '가격': 30000}, {'이름': 'USB', '가격': 5000}, {'이름': '새 상품', '가격': 10000}]\n"
     ]
    }
   ],
   "source": [
    "#키보드 입력\n",
    "productName = input ('삭제할 상품의 이름')\n",
    "\n",
    "#products 리스트에 저장된 데이터의 수만큼 반복\n",
    "for i, e in enumerate(products) :\n",
    "  if e['이름'] == productName :\n",
    "    del products[i]\n",
    "    \n",
    "print (products)"
   ]
  },
  {
   "cell_type": "code",
   "execution_count": 34,
   "id": "b626b27c",
   "metadata": {},
   "outputs": [
    {
     "name": "stdout",
     "output_type": "stream",
     "text": [
      "[{'이름': '노트북', '가격': 50000}, {'이름': '마우스', '가격': 8000}, {'이름': '키보드', '가격': 15000}, {'이름': '모니터', '가격': 30000}, {'이름': 'USB', '가격': 5000}, {'이름': '새 상품', '가격': 10000}]\n"
     ]
    }
   ],
   "source": [
    "print (products)"
   ]
  }
 ],
 "metadata": {
  "kernelspec": {
   "display_name": "Python 3",
   "language": "python",
   "name": "python3"
  },
  "language_info": {
   "codemirror_mode": {
    "name": "ipython",
    "version": 3
   },
   "file_extension": ".py",
   "mimetype": "text/x-python",
   "name": "python",
   "nbconvert_exporter": "python",
   "pygments_lexer": "ipython3",
   "version": "3.13.7"
  }
 },
 "nbformat": 4,
 "nbformat_minor": 5
}
