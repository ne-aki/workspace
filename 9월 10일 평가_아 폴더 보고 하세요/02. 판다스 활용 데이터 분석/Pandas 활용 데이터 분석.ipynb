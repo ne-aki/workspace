{
 "cells": [
  {
   "cell_type": "markdown",
   "id": "3609ab45",
   "metadata": {},
   "source": [
    "# Pandas 활용 데이터 분석"
   ]
  },
  {
   "cell_type": "markdown",
   "id": "ad1f7e5f",
   "metadata": {},
   "source": [
    "1. 키보드로 세 수를 입력받고,입력받은 세 수를 리스트에 저장하시오. 그 후 리스트에 저장된 수 중 가장 큰 수와 가장 작은 수의 차를 출력하시오."
   ]
  },
  {
   "cell_type": "code",
   "execution_count": 7,
   "id": "59446e63",
   "metadata": {},
   "outputs": [
    {
     "name": "stdout",
     "output_type": "stream",
     "text": [
      "97\n"
     ]
    }
   ],
   "source": [
    "#1번 문제 풀이 작성\n",
    "result = []\n",
    "for e in range(0, 3):\n",
    "  num = int(input(f'{e + 1}번째 숫자 입력 : '))\n",
    "  result.append(num)\n",
    "\n",
    "answer = max(result) - min(result)\n",
    "print(answer)"
   ]
  },
  {
   "cell_type": "markdown",
   "id": "45634a8b",
   "metadata": {},
   "source": [
    "2. 매개변수로 두 개의 리스트를 받아, 두 개의 리스트에 저장된 모든 데이터의 합을 리턴하는 함수를 작성하시오.  \n",
    "EX> 두 매개변수 : [1,2,3] , [4,5,6] / 결과 : 21"
   ]
  },
  {
   "cell_type": "code",
   "execution_count": 8,
   "id": "64188f9f",
   "metadata": {},
   "outputs": [
    {
     "name": "stdout",
     "output_type": "stream",
     "text": [
      "21\n"
     ]
    }
   ],
   "source": [
    "#2번 문제 풀이 작성\n",
    "list1 = [1,2,3]\n",
    "list2 = [4,5,6]\n",
    "def sumList(list1, list2):\n",
    "  newList = list1 + list2\n",
    "  return sum(newList)\n",
    "print(sumList(list1, list2))"
   ]
  },
  {
   "cell_type": "markdown",
   "id": "2e03b884",
   "metadata": {},
   "source": [
    "3. 매개변수로 두 개의 리스트를 받아, 두 개의 리스트에 중복으로 저장된 데이터만을 갖는  새로운 리스트를 리턴하는 함수를 작성하시오.  \n",
    "EX> 두 매개변수 : [1,3,5,7,9] , [1,2,3,4,5] / 결과 : [1,3,5]"
   ]
  },
  {
   "cell_type": "code",
   "execution_count": 9,
   "id": "06603c1d",
   "metadata": {},
   "outputs": [
    {
     "name": "stdout",
     "output_type": "stream",
     "text": [
      "[1, 3, 5]\n"
     ]
    }
   ],
   "source": [
    "#3번 문제 풀이 작성\n",
    "list1 = [1,3,5,7,9]\n",
    "list2 = [1,2,3,4,5]\n",
    "def duplicateList(list1, list2):\n",
    "  resultList = []\n",
    "  for numInList1 in list1 :\n",
    "    for numInList2 in list2 :\n",
    "      if numInList1 == numInList2 :\n",
    "        resultList.append(numInList1)\n",
    "  return resultList\n",
    "result = duplicateList(list1, list2)\n",
    "print(result)"
   ]
  },
  {
   "cell_type": "markdown",
   "id": "cfde14e4",
   "metadata": {},
   "source": [
    "4. 이름, 나이, 국어점수, 영어점수, 수학점수를 데이터로 갖는 student 딕셔너리를 만드시오. 각 데이터는 키보드로 입력받아 저장하시오."
   ]
  },
  {
   "cell_type": "code",
   "execution_count": 11,
   "id": "3bec11d1",
   "metadata": {},
   "outputs": [
    {
     "name": "stdout",
     "output_type": "stream",
     "text": [
      "{'name': '홍길동', 'age': '20', 'korScore': 91, 'engScore': 93, 'mathScore': 95}\n"
     ]
    }
   ],
   "source": [
    "#4번 문제 풀이 작성\n",
    "student = {\n",
    "  'name' : input('이름'),\n",
    "  'age' : input('나이'),\n",
    "  'korScore' : int(input('국어점수')),\n",
    "  'engScore' : int(input('영어점수')),\n",
    "  'mathScore' : int(input('수학점수'))\n",
    "}\n",
    "print(student)"
   ]
  },
  {
   "cell_type": "markdown",
   "id": "bfdfd34d",
   "metadata": {},
   "source": [
    "5. 4번 문제에서 만든 딕셔너리 데이터에 총점 데이터를 추가하시오. 총점 데이터는 국어,영어, 수학점수의 합으로 들어가야합니다."
   ]
  },
  {
   "cell_type": "code",
   "execution_count": 12,
   "id": "98179e8a",
   "metadata": {},
   "outputs": [
    {
     "name": "stdout",
     "output_type": "stream",
     "text": [
      "{'name': '홍길동', 'age': '20', 'korScore': 91, 'engScore': 93, 'mathScore': 95, 'totalScore': 279}\n"
     ]
    }
   ],
   "source": [
    "#5번 문제 풀이 작성\n",
    "student['totalScore'] = student['korScore'] + student['engScore'] + student['mathScore']\n",
    "print(student)"
   ]
  },
  {
   "cell_type": "markdown",
   "id": "ec5ad5ab",
   "metadata": {},
   "source": [
    "6. 아래 딕셔너리 데이터에 stu_grade라는 키를 추가하고, 해당 키의  데이터로  점수(stu_score)에 따른 등급 데이터를 저장하시오.  \n",
    "90 <= 점수      : A등급  \n",
    "80 <= 점수 < 90 : B등급  \n",
    "70 <= 점수 < 80 : C등급  \n",
    "      점수 < 70 : D등급 "
   ]
  },
  {
   "cell_type": "code",
   "execution_count": 13,
   "id": "c53fe493",
   "metadata": {},
   "outputs": [
    {
     "name": "stdout",
     "output_type": "stream",
     "text": [
      "{'stu_no': [1, 2, 3, 4, 5], 'stu_name': ['김자바', '이자바', '박자바', '최자바', '정자바'], 'stu_score': [85, 65, 70, 80, 95], 'stu_grade': ['B등급', 'D등급', 'C등급', 'B등급', 'A등급']}\n"
     ]
    }
   ],
   "source": [
    "class_room_data = {\n",
    "    'stu_no' : [1, 2, 3, 4, 5],\n",
    "    'stu_name' : ['김자바', '이자바', '박자바', '최자바', '정자바'],\n",
    "    'stu_score' : [85, 65, 70, 80, 95]\n",
    "}\n",
    "\n",
    "#6번 문제 풀이 작성\n",
    "def getStuGrade(score):\n",
    "  grade = ''\n",
    "  if score >= 90 :\n",
    "    grade = 'A등급'\n",
    "  elif score >= 80 :\n",
    "    grade = 'B등급'\n",
    "  elif score >= 70 :\n",
    "    grade = 'C등급'\n",
    "  else :\n",
    "    grade = 'D등급'\n",
    "  return grade\n",
    "\n",
    "class_room_data['stu_grade'] = []\n",
    "    \n",
    "for grade in class_room_data['stu_score'] :\n",
    "  class_room_data['stu_grade'].append(getStuGrade(grade))\n",
    "print(class_room_data)"
   ]
  },
  {
   "cell_type": "markdown",
   "id": "9190a70a",
   "metadata": {},
   "source": [
    "7. 아래 데이터는 자바반과 자반에 소속된 학생들의 정보이다.  \n",
    "나이가 30살 이상인 학생들의 점수의 합을 출력하세요."
   ]
  },
  {
   "cell_type": "code",
   "execution_count": 55,
   "id": "7011a6ed",
   "metadata": {},
   "outputs": [
    {
     "data": {
      "text/plain": [
       "250"
      ]
     },
     "execution_count": 55,
     "metadata": {},
     "output_type": "execute_result"
    }
   ],
   "source": [
    "javaClass= {\n",
    "  'calssName' : '자바반',\n",
    "  'teacher' : '김자바',\n",
    "  'studentList' : [\n",
    "    {'name' : '홍길동', 'age': 31, 'score' : 85},\n",
    "    {'name' : '이순신', 'age': 35, 'score' : 95},\n",
    "    {'name' : '유관순', 'age': 29, 'score' : 80},\n",
    "    {'name' : '장영실', 'age': 37, 'score' : 70},\n",
    "    {'name' : '신사임당', 'age': 25, 'score' : 65},\n",
    "  ]\n",
    "}\n",
    "\n",
    "# 7번 문제 답안 작성\n",
    "stuScoreList = []\n",
    "for classStudent in javaClass['studentList'] :\n",
    "  if classStudent['age'] >= 30 :\n",
    "  \tstuScoreList.append(classStudent['score'])\n",
    "sum (stuScoreList)"
   ]
  },
  {
   "cell_type": "markdown",
   "id": "8f4bf8e7",
   "metadata": {},
   "source": [
    "다음 딕셔너리 데이터를 참고하여 아래 문제들을 해결하시오."
   ]
  },
  {
   "cell_type": "code",
   "execution_count": 44,
   "id": "430a8a07",
   "metadata": {},
   "outputs": [],
   "source": [
    "# 2012년 광역시별 25세 미만 연령별 인구 데이터\n",
    "population = {\n",
    "    '행정기관' : ['서울특별시', '부산광역시', '대구광역시', '인천광역시', '울산광역시'],\n",
    "    '0~4세' : [214651, 68006, 53515, 69453, 29835],\n",
    "    '5~9세' : [210833, 68704, 58332, 68555, 29331],\n",
    "    '10~14세' : [269171, 94802, 91268, 86574, 29035],\n",
    "    '15~19세' : [335828, 124564, 101110, 106435, 49119],\n",
    "    '20~24세' : [343797, 125907, 96078, 102297, 43937]\n",
    "}"
   ]
  },
  {
   "cell_type": "markdown",
   "id": "9fb883b0",
   "metadata": {},
   "source": [
    "8. 2012년 기준 대한민국에서 25세 미만의 인구수 중 인구가 가장 많은 연령대를 출력하시오."
   ]
  },
  {
   "cell_type": "code",
   "execution_count": null,
   "id": "7eb47dd2",
   "metadata": {},
   "outputs": [
    {
     "name": "stdout",
     "output_type": "stream",
     "text": [
      "717056\n"
     ]
    }
   ],
   "source": [
    "# 8번 문제 답안 작성\n",
    "ageList = [\n",
    "  sum(population['0~4세']),\n",
    "\tsum(population['0~4세']),\n",
    "\tsum(population['10~14세']),\n",
    "\tsum(population['15~19세']),\n",
    "\tsum(population['20~24세'])\n",
    "]\n",
    "print (max(ageList))"
   ]
  },
  {
   "cell_type": "markdown",
   "id": "8360f3ef",
   "metadata": {},
   "source": [
    "9. '총 인구수' 라는 키를 추가하고, 해당 키에 0세부터 24세까지의 인구 합을 데이터로 하여 population 데이터에 추가하시오."
   ]
  },
  {
   "cell_type": "code",
   "execution_count": 135,
   "id": "47129ee7",
   "metadata": {},
   "outputs": [
    {
     "name": "stdout",
     "output_type": "stream",
     "text": [
      "[[214651, 68006, 53515, 69453, 29835], [214651, 68006, 53515, 69453, 29835], [269171, 94802, 91268, 86574, 29035], [335828, 124564, 101110, 106435, 49119], [343797, 125907, 96078, 102297, 43937]]\n"
     ]
    },
    {
     "ename": "TypeError",
     "evalue": "'int' object is not iterable",
     "output_type": "error",
     "traceback": [
      "\u001b[31m---------------------------------------------------------------------------\u001b[39m",
      "\u001b[31mTypeError\u001b[39m                                 Traceback (most recent call last)",
      "\u001b[36mCell\u001b[39m\u001b[36m \u001b[39m\u001b[32mIn[135]\u001b[39m\u001b[32m, line 12\u001b[39m\n\u001b[32m     10\u001b[39m \u001b[38;5;28mprint\u001b[39m (newAgeList)\n\u001b[32m     11\u001b[39m \u001b[38;5;28;01mfor\u001b[39;00m sumPopulation \u001b[38;5;129;01min\u001b[39;00m newAgeList :\n\u001b[32m---> \u001b[39m\u001b[32m12\u001b[39m   list1 = \u001b[38;5;28mprint\u001b[39m(\u001b[38;5;28;43msum\u001b[39;49m\u001b[43m(\u001b[49m\u001b[43msumPopulation\u001b[49m\u001b[43m[\u001b[49m\u001b[32;43m0\u001b[39;49m\u001b[43m]\u001b[49m\u001b[43m)\u001b[49m)\n\u001b[32m     13\u001b[39m   list2 = \u001b[38;5;28mprint\u001b[39m(\u001b[38;5;28msum\u001b[39m(sumPopulation[\u001b[32m1\u001b[39m]))\n\u001b[32m     14\u001b[39m   list3 = \u001b[38;5;28mprint\u001b[39m(\u001b[38;5;28msum\u001b[39m(sumPopulation[\u001b[32m2\u001b[39m]))\n",
      "\u001b[31mTypeError\u001b[39m: 'int' object is not iterable"
     ]
    }
   ],
   "source": [
    "# 9번 문제 답안 작성\n",
    "newAgeList = [\n",
    "  population['0~4세'],\n",
    "  population['0~4세'],\n",
    "  population['10~14세'],\n",
    "  population['15~19세'],\n",
    "  population['20~24세']\n",
    "]\n",
    "\n",
    "print (newAgeList)\n",
    "for sumPopulation in newAgeList :\n",
    "  list1 = print(sum(sumPopulation[0]))\n",
    "  list2 = print(sum(sumPopulation[1]))\n",
    "  list3 = print(sum(sumPopulation[2]))\n",
    "  list4 = print(sum(sumPopulation[3]))\n",
    "  list5 = print(sum(sumPopulation[4]))"
   ]
  }
 ],
 "metadata": {
  "kernelspec": {
   "display_name": "Python 3",
   "language": "python",
   "name": "python3"
  },
  "language_info": {
   "codemirror_mode": {
    "name": "ipython",
    "version": 3
   },
   "file_extension": ".py",
   "mimetype": "text/x-python",
   "name": "python",
   "nbconvert_exporter": "python",
   "pygments_lexer": "ipython3",
   "version": "3.13.7"
  }
 },
 "nbformat": 4,
 "nbformat_minor": 5
}
